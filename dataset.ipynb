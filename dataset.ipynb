{
 "cells": [
  {
   "cell_type": "markdown",
   "metadata": {},
   "source": [
    "# Constructing the cropped pair dataset\n",
    "\n",
    "This notebook will be a playground where I can develop, and debug the cropped pairs dataset."
   ]
  },
  {
   "cell_type": "code",
   "execution_count": 1,
   "metadata": {
    "ExecuteTime": {
     "end_time": "2018-07-21T16:00:52.043005Z",
     "start_time": "2018-07-21T16:00:51.891584Z"
    }
   },
   "outputs": [],
   "source": [
    "from matplotlib import pyplot as plt"
   ]
  },
  {
   "cell_type": "code",
   "execution_count": 2,
   "metadata": {
    "ExecuteTime": {
     "end_time": "2018-07-21T16:00:52.301365Z",
     "start_time": "2018-07-21T16:00:52.044198Z"
    }
   },
   "outputs": [],
   "source": [
    "# %load crop_detection/cropped_pairs.py\n",
    "from torchvision.datasets import folder\n",
    "from torchvision import transforms\n",
    "\n",
    "import numpy as np\n",
    "import os\n",
    "import os.path\n",
    "import torch\n",
    "import torch.utils.data as data\n",
    "\n",
    "\n",
    "class CroppedPairs(data.Dataset):\n",
    "    \"\"\"\n",
    "    A Dataset that reads images from a folder, then presents them as potentially cropped pairs.\n",
    "\n",
    "    1) If we (randomly) determine that the two images should not be a cropped pair, we'll select another\n",
    "    image, randomly as the cropped image.\n",
    "    2) To do the cropping we first randomly choose a width and a height [0, 1], of the new cropped image.\n",
    "    3) Then based on those values, we can randomly determine what part of the image should be the cropped image.\n",
    "    \"\"\"\n",
    "    def __init__(self, root,\n",
    "            pairing_probablity=0.5,\n",
    "            swapping_probablity=0.5,\n",
    "            crop_widths=dict(mean=0.3, std=0.1, min_value=0.01, max_value=0.99),\n",
    "            crop_heights=dict(mean=0.3, std=0.1, min_value=0.01, max_value=0.99),\n",
    "            hard_mode=False,\n",
    "            image_size=224,\n",
    "            variations=10,\n",
    "            cat_dim=0,\n",
    "            loader=folder.default_loader,\n",
    "            extensions=folder.IMG_EXTENSIONS):\n",
    "\n",
    "        self.root = root\n",
    "        self.pairing_probablity = pairing_probablity\n",
    "        self.swapping_probablity = swapping_probablity\n",
    "        self.crop_widths = crop_widths\n",
    "        self.crop_heights = crop_heights\n",
    "        self.hard_mode = hard_mode\n",
    "        self.image_size = image_size\n",
    "        self.cat_dim = cat_dim\n",
    "        self.variations = variations\n",
    "        self.loader = loader\n",
    "        self.extensions = extensions\n",
    "\n",
    "        self.paths = self.get_paths(self.root)\n",
    "        self.roll_randoms()\n",
    "\n",
    "    def roll_randoms(self):\n",
    "        pair_value = np.random.uniform(low=0.0, high=1.0, size=len(self))\n",
    "        self.is_paired = pair_value < self.pairing_probablity\n",
    "\n",
    "        swap_value = np.random.uniform(low=0.0, high=1.0, size=len(self))\n",
    "        self.is_swapped = swap_value < self.swapping_probablity\n",
    "\n",
    "        widths = self.get_random_values(**self.crop_widths)\n",
    "        heights = self.get_random_values(**self.crop_heights)\n",
    "\n",
    "        max_xs = 1.0 - widths\n",
    "        max_ys = 1.0 - heights\n",
    "        xs = np.random.uniform(low=0.0, high=max_xs)\n",
    "        ys = np.random.uniform(low=0.0, high=max_ys)\n",
    "\n",
    "        self.boxes = np.vstack((xs, ys, xs + widths, ys + heights)).T\n",
    "\n",
    "    def get_random_values(self, mean, std, min_value, max_value):\n",
    "        values = np.random.randn(len(self)) * std + mean\n",
    "        values[values < min_value] = min_value\n",
    "        values[values > max_value] = max_value\n",
    "        return values\n",
    "\n",
    "    def get_paths(self, root):\n",
    "        paths = []\n",
    "        for filename in os.listdir(root):\n",
    "            path = os.path.join(root, filename)\n",
    "            paths.append(path)\n",
    "        return paths\n",
    "\n",
    "    def get_uncropped_sample(self, index):\n",
    "        real_index = index % len(self.paths)\n",
    "        path = self.paths[real_index]\n",
    "        return self.loader(path)\n",
    "\n",
    "    def get_cropped_sample(self, index):\n",
    "        uncropped_sample = self.get_uncropped_sample(index)\n",
    "        if not self.is_paired[index]:\n",
    "            if self.hard_mode:\n",
    "                uncropped_sample = transforms.RandomHorizontalFlip(1)(uncropped_sample)\n",
    "            else:\n",
    "                uncropped_sample = self.get_uncropped_sample((index + 1) % len(self))\n",
    "\n",
    "        box = self.boxes[index]\n",
    "        w, h = uncropped_sample.size\n",
    "        box_in_pixels = box * np.array([w, h, w, h])\n",
    "\n",
    "        cropped_sample = uncropped_sample.crop(box_in_pixels)\n",
    "        return cropped_sample\n",
    "\n",
    "    def get_sample(self, index):\n",
    "        if self.is_swapped[index]:\n",
    "            first = self.get_cropped_sample(index)\n",
    "            second = self.get_uncropped_sample(index)\n",
    "        else:\n",
    "            first = self.get_uncropped_sample(index)\n",
    "            second = self.get_cropped_sample(index)\n",
    "\n",
    "\n",
    "        def square_pad(image):\n",
    "            size = image.size\n",
    "            large_side = max(size)\n",
    "            width_pad = large_side - size[0]\n",
    "            height_pad = large_side - size[1]\n",
    "            return transforms.Pad((width_pad//2, height_pad//2))(image)\n",
    "\n",
    "        transform = transforms.Compose((\n",
    "            square_pad,\n",
    "            transforms.Resize((self.image_size, self.image_size)),\n",
    "            transforms.ToTensor(),\n",
    "        ))\n",
    "        first_tensor = transform(first)\n",
    "        second_tensor = transform(second)\n",
    "\n",
    "        return torch.cat((first_tensor, second_tensor), dim=self.cat_dim)\n",
    "\n",
    "    def get_target(self, index):\n",
    "        if self.is_paired[index]:\n",
    "            is_paired = torch.LongTensor([1])\n",
    "        else:\n",
    "            is_paired = torch.LongTensor([0])\n",
    "\n",
    "        if self.is_swapped[index]:\n",
    "            is_swapped = torch.LongTensor([1])\n",
    "        else:\n",
    "            is_swapped = torch.LongTensor([0])\n",
    "\n",
    "        coords = torch.Tensor(self.boxes[index][:2])\n",
    "\n",
    "        result = (is_paired, is_swapped, coords)\n",
    "        return result\n",
    "\n",
    "    def __getitem__(self, index):\n",
    "        \"\"\"\n",
    "        Args:\n",
    "            index (int): Index\n",
    "\n",
    "        Returns:\n",
    "            tuple: (sample, target) where sample is the image, and target the path to the image\n",
    "        \"\"\"\n",
    "        if index < 0 or index >= len(self):\n",
    "            raise IndexError(f\"Index {index} out of range [0-{len(self) - 1}]\")\n",
    "\n",
    "        sample = self.get_sample(index)\n",
    "        target = self.get_target(index)\n",
    "\n",
    "        return sample, target\n",
    "\n",
    "    def __len__(self):\n",
    "        return len(self.paths) * self.variations\n",
    "\n",
    "    def __repr__(self):\n",
    "        fmt_str = 'Dataset ' + self.__class__.__name__ + '\\n'\n",
    "        fmt_str += '    Root Location: {}\\n'.format(self.root)\n",
    "        fmt_str += '    Number of images: {}\\n'.format(len(self.paths))\n",
    "        fmt_str += '    Number of variations per image: {}\\n'.format(self.variations)\n",
    "        fmt_str += '    Number of samples: {}\\n'.format(len(self))\n",
    "        return fmt_str\n"
   ]
  },
  {
   "cell_type": "code",
   "execution_count": 3,
   "metadata": {
    "ExecuteTime": {
     "end_time": "2018-07-21T16:00:52.305324Z",
     "start_time": "2018-07-21T16:00:52.302408Z"
    }
   },
   "outputs": [],
   "source": [
    "def plot(ds, index):\n",
    "    sample, target = ds[index]\n",
    "    first = sample[:3]\n",
    "    second = sample[3:]\n",
    "\n",
    "    print(target)\n",
    "    if ds.is_swapped[index]:\n",
    "        titles = ('cropped', 'original')\n",
    "    else:\n",
    "        titles = ('original', 'cropped')\n",
    "\n",
    "    fig = plt.figure(figsize=(14, 6))\n",
    "    for i, (image_tensor, title) in enumerate(zip((first, second), titles)):\n",
    "        ax = fig.add_subplot(1, 2, i+1)\n",
    "\n",
    "        # imshow wants (w, h, channels), torch wants (channels, w, h)\n",
    "        i = image_tensor.permute((1,2,0))\n",
    "        ax.imshow(i)\n",
    "        ax.set_title(title)"
   ]
  },
  {
   "cell_type": "code",
   "execution_count": 4,
   "metadata": {
    "ExecuteTime": {
     "end_time": "2018-07-21T16:00:52.311481Z",
     "start_time": "2018-07-21T16:00:52.306373Z"
    }
   },
   "outputs": [],
   "source": [
    "ds = CroppedPairs(root='data/dogscats/sample/train/dogs', image_size=32)"
   ]
  },
  {
   "cell_type": "code",
   "execution_count": 5,
   "metadata": {
    "ExecuteTime": {
     "end_time": "2018-07-21T16:00:52.316564Z",
     "start_time": "2018-07-21T16:00:52.312449Z"
    }
   },
   "outputs": [
    {
     "data": {
      "text/plain": [
       "Dataset CroppedPairs\n",
       "    Root Location: data/dogscats/sample/train/dogs\n",
       "    Number of images: 8\n",
       "    Number of variations per image: 10\n",
       "    Number of samples: 80"
      ]
     },
     "execution_count": 5,
     "metadata": {},
     "output_type": "execute_result"
    }
   ],
   "source": [
    "ds"
   ]
  },
  {
   "cell_type": "code",
   "execution_count": 6,
   "metadata": {
    "ExecuteTime": {
     "end_time": "2018-07-21T16:00:52.502215Z",
     "start_time": "2018-07-21T16:00:52.318034Z"
    }
   },
   "outputs": [
    {
     "name": "stdout",
     "output_type": "stream",
     "text": [
      "(tensor([ 0]), tensor([ 0]), tensor([ 0.2218,  0.4885]))\n"
     ]
    },
    {
     "data": {
      "image/png": "[encoded data removed]",
      "text/plain": [
       "<matplotlib.figure.Figure at 0x7fbe9b347b70>"
      ]
     },
     "metadata": {},
     "output_type": "display_data"
    }
   ],
   "source": [
    "plot(ds, 0)"
   ]
  },
  {
   "cell_type": "code",
   "execution_count": 7,
   "metadata": {
    "ExecuteTime": {
     "end_time": "2018-07-21T16:00:52.659948Z",
     "start_time": "2018-07-21T16:00:52.503230Z"
    }
   },
   "outputs": [
    {
     "name": "stdout",
     "output_type": "stream",
     "text": [
      "(tensor([ 1]), tensor([ 1]), tensor([ 0.2988,  0.6093]))\n"
     ]
    },
    {
     "data": {
      "image/png": "[encoded data removed]",
      "text/plain": [
       "<matplotlib.figure.Figure at 0x7fbe99036588>"
      ]
     },
     "metadata": {},
     "output_type": "display_data"
    }
   ],
   "source": [
    "plot(ds, 1)"
   ]
  },
  {
   "cell_type": "code",
   "execution_count": 8,
   "metadata": {
    "ExecuteTime": {
     "end_time": "2018-07-21T16:00:52.816589Z",
     "start_time": "2018-07-21T16:00:52.660964Z"
    }
   },
   "outputs": [
    {
     "name": "stdout",
     "output_type": "stream",
     "text": [
      "(tensor([ 1]), tensor([ 0]), tensor([ 0.3096,  0.0453]))\n"
     ]
    },
    {
     "data": {
      "image/png": "[encoded data removed]",
      "text/plain": [
       "<matplotlib.figure.Figure at 0x7fbe99036828>"
      ]
     },
     "metadata": {},
     "output_type": "display_data"
    }
   ],
   "source": [
    "plot(ds, 9)"
   ]
  },
  {
   "cell_type": "code",
   "execution_count": 9,
   "metadata": {
    "ExecuteTime": {
     "end_time": "2018-07-21T16:00:52.819546Z",
     "start_time": "2018-07-21T16:00:52.817651Z"
    },
    "scrolled": false
   },
   "outputs": [
    {
     "name": "stdout",
     "output_type": "stream",
     "text": [
      "Index 80 out of range [0-79]\n"
     ]
    }
   ],
   "source": [
    "try:\n",
    "    plot(ds, 80)\n",
    "except Exception as e:\n",
    "    print(e)"
   ]
  },
  {
   "cell_type": "code",
   "execution_count": 10,
   "metadata": {
    "ExecuteTime": {
     "end_time": "2018-07-21T16:00:52.825085Z",
     "start_time": "2018-07-21T16:00:52.820540Z"
    }
   },
   "outputs": [],
   "source": [
    "def flat_plot(ds, index):\n",
    "    sample, target = ds[index]\n",
    "    print(target)\n",
    "\n",
    "    # imshow wants (w, h, channels), torch wants (channels, w, h)\n",
    "    i = sample.permute((1,2,0))\n",
    "    plt.imshow(i)"
   ]
  },
  {
   "cell_type": "code",
   "execution_count": 11,
   "metadata": {
    "ExecuteTime": {
     "end_time": "2018-07-21T16:00:52.828542Z",
     "start_time": "2018-07-21T16:00:52.826049Z"
    }
   },
   "outputs": [],
   "source": [
    "flat_ds = CroppedPairs(root='data/dogscats/sample/train/dogs', image_size=32, cat_dim=2)"
   ]
  },
  {
   "cell_type": "code",
   "execution_count": 12,
   "metadata": {
    "ExecuteTime": {
     "end_time": "2018-07-21T16:00:52.905895Z",
     "start_time": "2018-07-21T16:00:52.829378Z"
    }
   },
   "outputs": [
    {
     "name": "stdout",
     "output_type": "stream",
     "text": [
      "(tensor([ 0]), tensor([ 0]), tensor([ 0.3636,  0.5741]))\n"
     ]
    },
    {
     "data": {
      "image/png": "[encoded data removed]",
      "text/plain": [
       "<matplotlib.figure.Figure at 0x7fbe99196b70>"
      ]
     },
     "metadata": {},
     "output_type": "display_data"
    }
   ],
   "source": [
    "flat_plot(flat_ds, 0)"
   ]
  },
  {
   "cell_type": "code",
   "execution_count": null,
   "metadata": {},
   "outputs": [],
   "source": []
  }
 ],
 "metadata": {
  "hide_input": false,
  "kernelspec": {
   "display_name": "Python 3",
   "language": "python",
   "name": "python3"
  },
  "language_info": {
   "codemirror_mode": {
    "name": "ipython",
    "version": 3
   },
   "file_extension": ".py",
   "mimetype": "text/x-python",
   "name": "python",
   "nbconvert_exporter": "python",
   "pygments_lexer": "ipython3",
   "version": "3.6.3"
  }
 },
 "nbformat": 4,
 "nbformat_minor": 2
}
